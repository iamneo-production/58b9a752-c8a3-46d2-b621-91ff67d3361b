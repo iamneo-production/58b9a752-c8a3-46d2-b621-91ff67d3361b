{
 "cells": [
  {
   "cell_type": "code",
   "execution_count": null,
   "metadata": {
    "ExecuteTime": {
     "end_time": "2019-05-28T14:18:09.562514Z",
     "start_time": "2019-05-28T14:18:09.557925Z"
    }
   },
   "outputs": [],
   "source": [
    "import requests\n",
    "\n",
    "app_id = 'd1f4cfd5-2a86-4c76-8593-5f999bf1a02d' \n",
    "api_key = 'MLXMoaTgjEozDqGUPJbWBsYQoKCwZ06n'"
   ]
  },
  {
   "cell_type": "code",
   "execution_count": null,
   "metadata": {
    "ExecuteTime": {
     "end_time": "2019-05-28T18:20:41.672157Z",
     "start_time": "2019-05-28T18:20:36.599134Z"
    },
    "scrolled": true
   },
   "outputs": [],
   "source": [
    "url = 'https://api.nytimes.com/svc/archive/v1/2019/1.json?api-key='+api_key\n",
    "r = requests.get(url)\n",
    "data = r.json()\n",
    "data"
   ]
  },
  {
   "cell_type": "code",
   "execution_count": null,
   "metadata": {
    "ExecuteTime": {
     "end_time": "2019-05-28T18:21:06.030391Z",
     "start_time": "2019-05-28T18:21:02.236410Z"
    }
   },
   "outputs": [],
   "source": [
    "import pyjq\n",
    "copyright = pyjq.all('.copyright', data)\n",
    "num_docs = pyjq.all('.response .docs | length', data)[0]\n",
    "print(num_docs)"
   ]
  },
  {
   "cell_type": "code",
   "execution_count": null,
   "metadata": {
    "ExecuteTime": {
     "end_time": "2019-05-28T18:21:08.577645Z",
     "start_time": "2019-05-28T18:21:06.036524Z"
    }
   },
   "outputs": [],
   "source": [
    "jq_query = f'.response .docs [] | {{url: .web_url, snippet: .snippet, headline: .headline .main, date: .pub_date, category: .news_desk}}'\n",
    "output = pyjq.all(jq_query, data)\n",
    "output"
   ]
  },
  {
   "cell_type": "code",
   "execution_count": null,
   "metadata": {
    "ExecuteTime": {
     "end_time": "2019-05-28T18:21:08.587173Z",
     "start_time": "2019-05-28T18:21:08.581234Z"
    }
   },
   "outputs": [],
   "source": [
    "len(output)"
   ]
  },
  {
   "cell_type": "code",
   "execution_count": null,
   "metadata": {
    "ExecuteTime": {
     "end_time": "2019-05-28T18:21:08.596689Z",
     "start_time": "2019-05-28T18:21:08.591191Z"
    }
   },
   "outputs": [],
   "source": [
    "output[0]['snippet']"
   ]
  },
  {
   "cell_type": "code",
   "execution_count": null,
   "metadata": {
    "ExecuteTime": {
     "end_time": "2019-05-28T18:21:12.696454Z",
     "start_time": "2019-05-28T18:21:12.689207Z"
    }
   },
   "outputs": [],
   "source": [
    "for key, value in output[0].items():\n",
    "    print(key)\n",
    "    print(value)"
   ]
  },
  {
   "cell_type": "code",
   "execution_count": null,
   "metadata": {
    "ExecuteTime": {
     "end_time": "2019-05-28T18:21:14.209094Z",
     "start_time": "2019-05-28T18:21:14.203067Z"
    }
   },
   "outputs": [],
   "source": [
    "business = []\n",
    "for i in output:\n",
    "    if i['category'] == 'Business':\n",
    "        business.append(i)  "
   ]
  },
  {
   "cell_type": "code",
   "execution_count": null,
   "metadata": {
    "ExecuteTime": {
     "end_time": "2019-05-28T18:21:15.315475Z",
     "start_time": "2019-05-28T18:21:15.112683Z"
    }
   },
   "outputs": [],
   "source": [
    "business"
   ]
  },
  {
   "cell_type": "code",
   "execution_count": null,
   "metadata": {
    "ExecuteTime": {
     "end_time": "2019-05-28T18:21:16.358040Z",
     "start_time": "2019-05-28T18:21:16.349629Z"
    }
   },
   "outputs": [],
   "source": [
    "len(business)"
   ]
  },
  {
   "cell_type": "code",
   "execution_count": null,
   "metadata": {
    "ExecuteTime": {
     "end_time": "2019-05-28T18:21:17.216255Z",
     "start_time": "2019-05-28T18:21:17.171213Z"
    }
   },
   "outputs": [],
   "source": [
    "import pandas as pd\n",
    "df = pd.DataFrame(business)\n",
    "df.drop_duplicates(keep=False, inplace=True)\n",
    "df"
   ]
  },
  {
   "cell_type": "code",
   "execution_count": null,
   "metadata": {
    "ExecuteTime": {
     "end_time": "2019-05-28T18:21:17.956640Z",
     "start_time": "2019-05-28T18:21:17.949540Z"
    }
   },
   "outputs": [],
   "source": [
    "df['date'] = df['date'].map(lambda i: str(i)[:10])"
   ]
  },
  {
   "cell_type": "code",
   "execution_count": null,
   "metadata": {
    "ExecuteTime": {
     "end_time": "2019-05-28T18:21:18.758850Z",
     "start_time": "2019-05-28T18:21:18.750275Z"
    }
   },
   "outputs": [],
   "source": [
    "import datetime\n",
    "df['date'] = df['date'].map(lambda i: datetime.datetime.strptime(i, '%Y-%m-%d'))"
   ]
  },
  {
   "cell_type": "code",
   "execution_count": null,
   "metadata": {
    "ExecuteTime": {
     "end_time": "2019-05-28T18:21:19.393540Z",
     "start_time": "2019-05-28T18:21:19.381544Z"
    }
   },
   "outputs": [],
   "source": [
    "df.info()"
   ]
  },
  {
   "cell_type": "code",
   "execution_count": null,
   "metadata": {
    "ExecuteTime": {
     "end_time": "2019-05-28T18:21:19.947389Z",
     "start_time": "2019-05-28T18:21:19.940439Z"
    }
   },
   "outputs": [],
   "source": [
    "df['text'] = df.snippet + df.headline"
   ]
  },
  {
   "cell_type": "code",
   "execution_count": null,
   "metadata": {
    "ExecuteTime": {
     "end_time": "2019-05-28T18:21:20.417302Z",
     "start_time": "2019-05-28T18:21:20.406281Z"
    },
    "scrolled": true
   },
   "outputs": [],
   "source": [
    "df.drop(columns=['snippet', 'headline', 'category'], inplace=True)"
   ]
  },
  {
   "cell_type": "code",
   "execution_count": null,
   "metadata": {
    "ExecuteTime": {
     "end_time": "2019-05-28T18:21:20.927220Z",
     "start_time": "2019-05-28T18:21:20.919550Z"
    },
    "scrolled": true
   },
   "outputs": [],
   "source": [
    "df.set_index('date', inplace=True)\n",
    "df.sort_index(axis=0, inplace=True)"
   ]
  },
  {
   "cell_type": "code",
   "execution_count": null,
   "metadata": {
    "ExecuteTime": {
     "end_time": "2019-05-28T18:25:31.768281Z",
     "start_time": "2019-05-28T18:25:31.741446Z"
    },
    "scrolled": true
   },
   "outputs": [],
   "source": [
    "df"
   ]
  },
  {
   "cell_type": "code",
   "execution_count": null,
   "metadata": {
    "ExecuteTime": {
     "end_time": "2019-05-28T19:37:50.035806Z",
     "start_time": "2019-05-28T19:37:50.023898Z"
    },
    "scrolled": true
   },
   "outputs": [],
   "source": [
    "# chaining above codes into one function\n",
    "import requests\n",
    "import pyjq\n",
    "import pandas as pd\n",
    "import datetime\n",
    "\n",
    "def monthly_text(year, month):\n",
    "    app_id = 'd1f4cfd5-2a86-4c76-8593-5f999bf1a02d' \n",
    "    api_key = 'MLXMoaTgjEozDqGUPJbWBsYQoKCwZ06n'\n",
    "    url = 'https://api.nytimes.com/svc/archive/v1/' +str(year)+ '/' +str(month)+ '.json?api-key=' +api_key\n",
    "    r = requests.get(url)\n",
    "    data = r.json()\n",
    "    jq_query = f'.response .docs [] | {{url: .web_url, snippet: .snippet, headline: .headline .main, date: .pub_date, category: .news_desk}}'\n",
    "    output = pyjq.all(jq_query, data)\n",
    "    business = []\n",
    "    for i in output:\n",
    "        if i['category'] == 'Business':\n",
    "            business.append(i)\n",
    "    df = pd.DataFrame(business)\n",
    "    df.drop_duplicates(keep=False, inplace=True)\n",
    "    df['date'] = df['date'].map(lambda i: str(i)[:10])\n",
    "    df['date'] = df['date'].map(lambda i: datetime.datetime.strptime(i, '%Y-%m-%d'))\n",
    "    df['text'] = df.snippet + df.headline\n",
    "    df.drop(columns=['snippet', 'headline', 'category'], inplace=True)\n",
    "    df.sort_values('date', inplace=True)\n",
    "    return df        "
   ]
  },
  {
   "cell_type": "code",
   "execution_count": null,
   "metadata": {
    "ExecuteTime": {
     "end_time": "2019-05-28T19:37:55.166756Z",
     "start_time": "2019-05-28T19:37:50.812499Z"
    },
    "scrolled": true
   },
   "outputs": [],
   "source": [
    "Jan19_df = monthly_text(2019, 1)\n",
    "Jan19_df"
   ]
  },
  {
   "cell_type": "code",
   "execution_count": null,
   "metadata": {
    "ExecuteTime": {
     "end_time": "2019-05-28T19:44:28.813805Z",
     "start_time": "2019-05-28T19:44:28.781301Z"
    }
   },
   "outputs": [],
   "source": [
    "import json\n",
    "\n",
    "d = Jan19_df.to_dict(orient='records')\n",
    "d"
   ]
  },
  {
   "cell_type": "code",
   "execution_count": null,
   "metadata": {
    "ExecuteTime": {
     "end_time": "2019-05-28T19:47:22.650686Z",
     "start_time": "2019-05-28T19:47:22.279017Z"
    }
   },
   "outputs": [],
   "source": [
    "# scraping each article by url from dictionary\n",
    "\n",
    "from bs4 import BeautifulSoup as BS\n",
    "\n",
    "\n",
    "def get_nyt_text(url):\n",
    "    headers = {'user-agent': 'Mozilla/5.0 (Macintosh; Intel Mac OS X 10_11_6) AppleWebKit/537.36 (KHTML, like Gecko) Chrome/53.0.2785.143 Safari/537.36'}\n",
    "    page = requests.get(url, headers=headers,timeout=5)\n",
    "    page.status_code\n",
    "    \n",
    "    soup = BS(page.content, 'html.parser')\n",
    "    content = soup.findAll('p', class_ = 'css-18icg9x evys1bk0')\n",
    "    \n",
    "    nyt = ''\n",
    "    for index in range(len(content)):\n",
    "        nyt += content[index].get_text()\n",
    "        \n",
    "    return nyt"
   ]
  },
  {
   "cell_type": "code",
   "execution_count": null,
   "metadata": {
    "ExecuteTime": {
     "end_time": "2019-05-28T19:50:05.809016Z",
     "start_time": "2019-05-28T19:48:45.400312Z"
    }
   },
   "outputs": [],
   "source": [
    "for i in d:\n",
    "    i.update({'article':get_nyt_text(i['url'])})"
   ]
  },
  {
   "cell_type": "code",
   "execution_count": null,
   "metadata": {
    "ExecuteTime": {
     "end_time": "2019-05-28T20:00:26.316922Z",
     "start_time": "2019-05-28T20:00:26.257027Z"
    }
   },
   "outputs": [],
   "source": [
    "d"
   ]
  },
  {
   "cell_type": "code",
   "execution_count": null,
   "metadata": {
    "ExecuteTime": {
     "end_time": "2019-05-29T14:23:09.493728Z",
     "start_time": "2019-05-29T14:23:07.393077Z"
    }
   },
   "outputs": [],
   "source": [
    "# using Vader for sentiment analysis\n",
    "\n",
    "from nltk.sentiment.vader import SentimentIntensityAnalyzer\n",
    "import nltk\n",
    "nltk.download('vader_lexicon')\n",
    "si = SentimentIntensityAnalyzer()\n",
    "\n",
    "for i in d:\n",
    "    i.update({'sentiment':si.polarity_scores(i['article'])})"
   ]
  },
  {
   "cell_type": "code",
   "execution_count": null,
   "metadata": {
    "ExecuteTime": {
     "end_time": "2019-05-29T14:23:10.431249Z",
     "start_time": "2019-05-29T14:23:10.313743Z"
    }
   },
   "outputs": [],
   "source": [
    "d"
   ]
  },
  {
   "cell_type": "code",
   "execution_count": null,
   "metadata": {
    "ExecuteTime": {
     "end_time": "2019-05-28T20:14:17.372046Z",
     "start_time": "2019-05-28T20:14:17.292940Z"
    }
   },
   "outputs": [],
   "source": [
    "for i in d:\n",
    "    i.update({'sentiment_headline':si.polarity_scores(i['text'])})"
   ]
  },
  {
   "cell_type": "code",
   "execution_count": null,
   "metadata": {
    "ExecuteTime": {
     "end_time": "2019-05-28T20:14:18.776117Z",
     "start_time": "2019-05-28T20:14:18.695117Z"
    }
   },
   "outputs": [],
   "source": [
    "d"
   ]
  },
  {
   "cell_type": "code",
   "execution_count": null,
   "metadata": {
    "ExecuteTime": {
     "end_time": "2019-05-28T20:20:08.106733Z",
     "start_time": "2019-05-28T20:20:08.100054Z"
    }
   },
   "outputs": [],
   "source": [
    "d[0]['sentiment_headline']['pos']"
   ]
  },
  {
   "cell_type": "code",
   "execution_count": null,
   "metadata": {
    "ExecuteTime": {
     "end_time": "2019-05-28T20:22:03.765660Z",
     "start_time": "2019-05-28T20:22:03.679174Z"
    }
   },
   "outputs": [],
   "source": [
    "for i in d:\n",
    "    i.update({'pos_headline': i['sentiment_headline']['pos']})\n",
    "    i.update({'neg_headline': i['sentiment_headline']['neg']})\n",
    "    i.update({'neu_headline': i['sentiment_headline']['neu']})\n",
    "d"
   ]
  },
  {
   "cell_type": "code",
   "execution_count": null,
   "metadata": {
    "ExecuteTime": {
     "end_time": "2019-05-28T20:27:05.065712Z",
     "start_time": "2019-05-28T20:27:04.934655Z"
    }
   },
   "outputs": [],
   "source": [
    "df_sentiment = pd.DataFrame(d)\n",
    "df_sentiment"
   ]
  },
  {
   "cell_type": "code",
   "execution_count": null,
   "metadata": {
    "ExecuteTime": {
     "end_time": "2019-05-28T20:27:05.977755Z",
     "start_time": "2019-05-28T20:27:05.830853Z"
    }
   },
   "outputs": [],
   "source": [
    "import numpy as np\n",
    "\n",
    "df_sentiment['article'].replace('', np.nan, inplace=True)\n",
    "df_sentiment.dropna(axis=0)"
   ]
  },
  {
   "cell_type": "code",
   "execution_count": null,
   "metadata": {
    "ExecuteTime": {
     "end_time": "2019-05-28T20:27:06.807575Z",
     "start_time": "2019-05-28T20:27:06.764785Z"
    },
    "scrolled": true
   },
   "outputs": [],
   "source": [
    "df_sentiment.drop(columns=['article', 'sentiment', 'sentiment_headline', 'url'], inplace=True)\n",
    "df_sentiment"
   ]
  },
  {
   "cell_type": "code",
   "execution_count": null,
   "metadata": {
    "ExecuteTime": {
     "end_time": "2019-05-28T21:32:13.168377Z",
     "start_time": "2019-05-28T21:32:13.141118Z"
    },
    "scrolled": true
   },
   "outputs": [],
   "source": [
    "daily_sentiment = df_sentiment.groupby('date').mean()\n",
    "daily_sentiment['net_sentiment'] = daily_sentiment.neu_headline + daily_sentiment.pos_headline - daily_sentiment.neg_headline\n",
    "daily_sentiment"
   ]
  },
  {
   "cell_type": "code",
   "execution_count": null,
   "metadata": {
    "ExecuteTime": {
     "end_time": "2019-05-28T21:32:14.060848Z",
     "start_time": "2019-05-28T21:32:14.000048Z"
    },
    "scrolled": true
   },
   "outputs": [],
   "source": [
    "# time series analysis on S&P 500 for the month of January 2019\n",
    "\n",
    "SP500 = pd.read_csv('^GSPC.csv')\n",
    "SP500"
   ]
  },
  {
   "cell_type": "code",
   "execution_count": null,
   "metadata": {
    "ExecuteTime": {
     "end_time": "2019-05-28T21:32:14.512189Z",
     "start_time": "2019-05-28T21:32:14.498386Z"
    }
   },
   "outputs": [],
   "source": [
    "SP500['Date'] = SP500['Date'].map(lambda i: datetime.datetime.strptime(i, '%Y-%m-%d'))"
   ]
  },
  {
   "cell_type": "code",
   "execution_count": null,
   "metadata": {
    "ExecuteTime": {
     "end_time": "2019-05-28T21:32:14.969522Z",
     "start_time": "2019-05-28T21:32:14.961445Z"
    }
   },
   "outputs": [],
   "source": [
    "# daily_sentiment.merge(SP500, left_index=True, right_on='Date')"
   ]
  },
  {
   "cell_type": "code",
   "execution_count": null,
   "metadata": {
    "ExecuteTime": {
     "end_time": "2019-05-28T21:32:15.424951Z",
     "start_time": "2019-05-28T21:32:15.414829Z"
    }
   },
   "outputs": [],
   "source": [
    "SP500.drop(columns=['High', 'Low', 'Adj Close', 'Volume'], inplace=True)"
   ]
  },
  {
   "cell_type": "code",
   "execution_count": null,
   "metadata": {
    "ExecuteTime": {
     "end_time": "2019-05-28T21:32:15.869677Z",
     "start_time": "2019-05-28T21:32:15.859477Z"
    },
    "scrolled": true
   },
   "outputs": [],
   "source": [
    "SP500['Daily_Change'] = SP500['Close'] / SP500['Open'] -1"
   ]
  },
  {
   "cell_type": "code",
   "execution_count": null,
   "metadata": {
    "ExecuteTime": {
     "end_time": "2019-05-28T21:32:16.274912Z",
     "start_time": "2019-05-28T21:32:16.265568Z"
    },
    "scrolled": true
   },
   "outputs": [],
   "source": [
    "SP500.set_index('Date', inplace=True)"
   ]
  },
  {
   "cell_type": "code",
   "execution_count": null,
   "metadata": {
    "ExecuteTime": {
     "end_time": "2019-05-28T21:32:16.711873Z",
     "start_time": "2019-05-28T21:32:16.702694Z"
    },
    "scrolled": true
   },
   "outputs": [],
   "source": [
    "SP500.drop(columns=['Open', 'Close'], inplace=True)"
   ]
  },
  {
   "cell_type": "code",
   "execution_count": null,
   "metadata": {
    "ExecuteTime": {
     "end_time": "2019-05-28T21:32:17.508380Z",
     "start_time": "2019-05-28T21:32:17.112763Z"
    }
   },
   "outputs": [],
   "source": [
    "%matplotlib inline \n",
    "import matplotlib.pyplot as plt\n",
    "import datetime\n",
    "import seaborn as sns\n",
    "import statsmodels.api as sm\n",
    "\n",
    "SP500.plot(figsize=(12,8), title= 'S&P 500 Daily Performance', fontsize=14)"
   ]
  },
  {
   "cell_type": "code",
   "execution_count": null,
   "metadata": {
    "ExecuteTime": {
     "end_time": "2019-05-28T21:32:17.659763Z",
     "start_time": "2019-05-28T21:32:17.626213Z"
    },
    "scrolled": true
   },
   "outputs": [],
   "source": [
    "SP500"
   ]
  },
  {
   "cell_type": "code",
   "execution_count": null,
   "metadata": {
    "ExecuteTime": {
     "end_time": "2019-05-28T21:32:19.308587Z",
     "start_time": "2019-05-28T21:32:18.129730Z"
    }
   },
   "outputs": [],
   "source": [
    "from statsmodels.tsa.seasonal import seasonal_decompose\n",
    "decomposition = seasonal_decompose(SP500, freq=1)\n",
    "fig = plt.figure()\n",
    "fig = decomposition.plot()\n",
    "fig.set_size_inches(15, 8)"
   ]
  },
  {
   "cell_type": "code",
   "execution_count": null,
   "metadata": {
    "ExecuteTime": {
     "end_time": "2019-05-28T21:32:19.331985Z",
     "start_time": "2019-05-28T21:32:19.313804Z"
    },
    "scrolled": true
   },
   "outputs": [],
   "source": [
    "daily_sentiment"
   ]
  },
  {
   "cell_type": "code",
   "execution_count": null,
   "metadata": {
    "ExecuteTime": {
     "end_time": "2019-05-28T21:32:19.895477Z",
     "start_time": "2019-05-28T21:32:19.885774Z"
    },
    "scrolled": true
   },
   "outputs": [],
   "source": [
    "daily_sentiment_diff = daily_sentiment.diff(periods=1 ,axis=0)"
   ]
  },
  {
   "cell_type": "code",
   "execution_count": null,
   "metadata": {
    "ExecuteTime": {
     "end_time": "2019-05-28T21:32:20.497408Z",
     "start_time": "2019-05-28T21:32:20.465171Z"
    },
    "scrolled": true
   },
   "outputs": [],
   "source": [
    "daily_net_sentiment = daily_sentiment.merge(daily_sentiment_diff, left_index=True, right_index=True)\n",
    "daily_net_sentiment"
   ]
  },
  {
   "cell_type": "code",
   "execution_count": null,
   "metadata": {
    "ExecuteTime": {
     "end_time": "2019-05-28T21:32:20.979785Z",
     "start_time": "2019-05-28T21:32:20.967168Z"
    }
   },
   "outputs": [],
   "source": [
    "daily_net_sentiment['Open_Sentiment'] = daily_net_sentiment['net_sentiment_x'] - daily_net_sentiment['net_sentiment_y']\n"
   ]
  },
  {
   "cell_type": "code",
   "execution_count": null,
   "metadata": {
    "ExecuteTime": {
     "end_time": "2019-05-28T21:32:21.534127Z",
     "start_time": "2019-05-28T21:32:21.518990Z"
    }
   },
   "outputs": [],
   "source": [
    "daily_net_sentiment['Closing_Sentiment'] = daily_net_sentiment['net_sentiment_x']\n",
    "daily_net_sentiment['Daily_Change_Sentiment'] = daily_net_sentiment['Closing_Sentiment'] / daily_net_sentiment['Open_Sentiment'] -1"
   ]
  },
  {
   "cell_type": "code",
   "execution_count": null,
   "metadata": {
    "ExecuteTime": {
     "end_time": "2019-05-28T21:32:22.137287Z",
     "start_time": "2019-05-28T21:32:22.117438Z"
    },
    "scrolled": true
   },
   "outputs": [],
   "source": [
    "daily_Change_Net_Sentiment = pd.DataFrame(daily_net_sentiment['Daily_Change_Sentiment'])\n",
    "daily_Change_Net_Sentiment"
   ]
  },
  {
   "cell_type": "code",
   "execution_count": null,
   "metadata": {
    "ExecuteTime": {
     "end_time": "2019-05-28T21:32:22.813329Z",
     "start_time": "2019-05-28T21:32:22.795610Z"
    },
    "scrolled": true
   },
   "outputs": [],
   "source": [
    "SP500_Sentiment = daily_Change_Net_Sentiment.merge(SP500, left_index=True, right_index=True)\n",
    "SP500_Sentiment"
   ]
  },
  {
   "cell_type": "code",
   "execution_count": null,
   "metadata": {
    "ExecuteTime": {
     "end_time": "2019-05-28T21:32:23.914395Z",
     "start_time": "2019-05-28T21:32:23.470493Z"
    }
   },
   "outputs": [],
   "source": [
    "SP500_Sentiment.plot(figsize=(12,8), title= 'S&P 500 Daily Performance and Change in NYT Sentiment', fontsize=14)"
   ]
  }
 ],
 "metadata": {
  "kernelspec": {
   "display_name": "Python 3 (ipykernel)",
   "language": "python",
   "name": "python3"
  },
  "language_info": {
   "codemirror_mode": {
    "name": "ipython",
    "version": 3
   },
   "file_extension": ".py",
   "mimetype": "text/x-python",
   "name": "python",
   "nbconvert_exporter": "python",
   "pygments_lexer": "ipython3",
   "version": "3.9.12"
  },
  "toc": {
   "base_numbering": 1,
   "nav_menu": {},
   "number_sections": true,
   "sideBar": true,
   "skip_h1_title": false,
   "title_cell": "Table of Contents",
   "title_sidebar": "Contents",
   "toc_cell": false,
   "toc_position": {},
   "toc_section_display": true,
   "toc_window_display": false
  }
 },
 "nbformat": 4,
 "nbformat_minor": 2
}
